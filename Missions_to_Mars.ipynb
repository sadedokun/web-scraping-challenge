{
 "cells": [
  {
   "cell_type": "markdown",
   "metadata": {},
   "source": [
    "# Missions_to_Mars"
   ]
  },
  {
   "cell_type": "code",
   "execution_count": 1,
   "metadata": {},
   "outputs": [],
   "source": [
    "import time\n",
    "from splinter import Browser\n",
    "from bs4 import BeautifulSoup as bs\n",
    "import pandas as pd\n",
    "import numpy as np\n",
    "from selenium import webdriver\n",
    "import requests as req\n",
    "from splinter import browser\n",
    "from selenium import webdriver"
   ]
  },
  {
   "cell_type": "markdown",
   "metadata": {},
   "source": [
    "## NASA Mars News"
   ]
  },
  {
   "cell_type": "code",
   "execution_count": 2,
   "metadata": {},
   "outputs": [],
   "source": [
    "chromedriver = '/usr/local/bin/chromedriver'\n",
    "browser = Browser('chrome', chromedriver)\n",
    "nasa_url = \"https://mars.nasa.gov/news/\" \n",
    "response = req.get(nasa_url)\n",
    "\n",
    "soup = bs(response.text, 'html5lib')\n",
    "\n",
    "title = soup.find_all(\"div\", class_=\"content_title\")\n",
    "# title = soup.find_all(\"div\", class_=\"content_title\").text\n",
    "paragraph_text = soup.find(\"div\", class_=\"rollover_description_inner\").text\n",
    "# print(soup.prettify())"
   ]
  },
  {
   "cell_type": "code",
   "execution_count": 3,
   "metadata": {},
   "outputs": [
    {
     "output_type": "stream",
     "name": "stdout",
     "text": "\nVaneeza Rupani's essay was chosen as the name for the small spacecraft, which will mark NASA's first attempt at powered flight on another planet.\n\n[<div class=\"content_title\">\n<a href=\"/news/8659/alabama-high-school-student-names-nasas-mars-helicopter/\">\nAlabama High School Student Names NASA's Mars Helicopter\n</a>\n</div>, <div class=\"content_title\">\n<a href=\"/news/8645/mars-helicopter-attached-to-nasas-perseverance-rover/\">\nMars Helicopter Attached to NASA's Perseverance Rover\n</a>\n</div>, <div class=\"content_title\">\n<a href=\"/news/8641/nasas-perseverance-mars-rover-gets-its-wheels-and-air-brakes/\">\nNASA's Perseverance Mars Rover Gets Its Wheels and Air Brakes\n</a>\n</div>, <div class=\"content_title\">\n<a href=\"/news/8634/109-million-names-now-aboard-nasas-perseverance-mars-rover/\">\n10.9 Million Names Now Aboard NASA's Perseverance Mars Rover\n</a>\n</div>, <div class=\"content_title\">\n<a href=\"/news/8622/virginia-middle-school-student-earns-honor-of-naming-nasas-next-mars-rover/\">\nVirginia Middle School Student Earns Honor of Naming NASA's Next Mars Rover\n</a>\n</div>, <div class=\"content_title\">\n<a href=\"/news/8606/nasa-prepares-for-moon-and-mars-with-new-addition-to-its-deep-space-network/\">\nNASA Prepares for Moon and Mars With New Addition to Its Deep Space Network\n</a>\n</div>]\n"
    },
    {
     "output_type": "execute_result",
     "data": {
      "text/plain": "'Managed by the Mars Exploration Program and the Jet Propulsion Laboratory for NASA’s Science Mission Directorate'"
     },
     "metadata": {},
     "execution_count": 3
    }
   ],
   "source": [
    "print(paragraph_text)\n",
    "print(title)\n",
    "soup.title.text.strip()\n",
    "# soup.body\n",
    "# soup.body.text\n",
    "# soup.body.p.text\n",
    "soup.body.find_all('p')\n",
    "soup.body.find_all('p')[0]\n",
    "soup.body.find('p').text"
   ]
  },
  {
   "cell_type": "code",
   "execution_count": 4,
   "metadata": {},
   "outputs": [
    {
     "output_type": "stream",
     "name": "stdout",
     "text": "----------------\n\nAlabama High School Student Names NASA's Mars Helicopter\n\n\nVaneeza Rupani's essay was chosen as the name for the small spacecraft, which will mark NASA's first attempt at powered flight on another planet.\n\n----------------\n\nMars Helicopter Attached to NASA's Perseverance Rover\n\n\nThe team also fueled the rover's sky crane to get ready for this summer's history-making launch.\n\n----------------\n\nNASA's Perseverance Mars Rover Gets Its Wheels and Air Brakes\n\n\nAfter the rover was shipped from JPL to Kennedy Space Center, the team is getting closer to finalizing the spacecraft for launch later this summer.\n\n----------------\n\n10.9 Million Names Now Aboard NASA's Perseverance Mars Rover\n\n\nAs part of NASA's 'Send Your Name to Mars' campaign, they've been stenciled onto three microchips along with essays from NASA's 'Name the Rover' contest. Next stop: Mars.\n\n----------------\n\nVirginia Middle School Student Earns Honor of Naming NASA's Next Mars Rover\n\n\nNASA chose a seventh-grader from Virginia as winner of the agency's \"Name the Rover\" essay contest. Alexander Mather's entry for \"Perseverance\" was voted tops among 28,000 entries. \n\n----------------\n\nNASA Prepares for Moon and Mars With New Addition to Its Deep Space Network\n\n\nRobotic spacecraft will be able to communicate with the dish using radio waves and lasers.\n\n"
    }
   ],
   "source": [
    "results = soup.find_all('div', class_=\"slide\")\n",
    "for result in results:\n",
    "    titles = result.find('div', class_=\"content_title\")\n",
    "    title = titles.find('a').text\n",
    "    bodies = result.find('div', class_=\"rollover_description\")\n",
    "    body = bodies.find('div', class_=\"rollover_description_inner\").text\n",
    "    print('----------------')\n",
    "    print(title)\n",
    "    print(body)"
   ]
  },
  {
   "cell_type": "markdown",
   "metadata": {},
   "source": [
    "## JPL Mars Space Images - Featured Image"
   ]
  },
  {
   "cell_type": "code",
   "execution_count": 5,
   "metadata": {
    "tags": [
     "outputPrepend"
    ]
   },
   "outputs": [
    {
     "output_type": "stream",
     "name": "stdout",
     "text": "class=\"fancybox\" data-description=\"This image from NASAs Mars Odyssey shows several windstreaks on lava plains southwest of Arsia Mons. The extensive lava flow field is called Daedalia Planum.\" data-fancybox-group=\"images\" data-fancybox-href=\"/spaceimages/images/largesize/PIA23842_hires.jpg\" data-link=\"/spaceimages/details.php?id=PIA23842\" data-thumbnail=\"/spaceimages/images/wallpaper/PIA23842-640x350.jpg\" data-title=\"Daedalia Planum Windstreaks\">\n<div class=\"image_and_description_container\">\n<div class=\"rollover_description\">\n<h3 class=\"release_date\">April 21, 2020</h3>\n<div class=\"item_tease_overlay\">Daedalia Planum Windstreaks</div>\n<div class=\"overlay_arrow\">\n<img alt=\"more arrow\" src=\"/assets/images/overlay-arrow.png\"/>\n</div>\n</div>\n<div class=\"img\">\n<img alt=\"Daedalia Planum Windstreaks\" class=\"thumb\" src=\"/spaceimages/images/wallpaper/PIA23842-640x350.jpg\" title=\"Daedalia Planum Windstreaks\"/>\n</div>\n<div class=\"list_text_content\">\n<div class=\"article_teaser_body\">April 21, 2020</div>\n<div class=\"content_title\">\n\t\t\t\t\t\t\t\t\t\t  Daedalia Planum Windstreaks\n\t\t\t\t\t\t\t\t\t\t</div>\n<div class=\"article_teaser_body\">\n\t\t\t\t\t\t\t\t\t\t  This image from NASAs Mars Odyssey shows several windstreaks on lava plains southwest of Arsia Mons. The extensive lava flow field is called Daedalia Planum.\n\t\t\t\t\t\t\t\t\t\t</div>\n</div>\n</div>\n</a>, <a class=\"fancybox\" data-description=\"This image from NASAs Mars Odyssey shows the summit of Ascraeus Mons. Ascraeus Mons is the northernmost of the three aligned Tharsis volcanoes.\" data-fancybox-group=\"images\" data-fancybox-href=\"/spaceimages/images/largesize/PIA23841_hires.jpg\" data-link=\"/spaceimages/details.php?id=PIA23841\" data-thumbnail=\"/spaceimages/images/wallpaper/PIA23841-640x350.jpg\" data-title=\"Ascraeus Mons\">\n<div class=\"image_and_description_container\">\n<div class=\"rollover_description\">\n<h3 class=\"release_date\">April 20, 2020</h3>\n<div class=\"item_tease_overlay\">Ascraeus Mons</div>\n<div class=\"overlay_arrow\">\n<img alt=\"more arrow\" src=\"/assets/images/overlay-arrow.png\"/>\n</div>\n</div>\n<div class=\"img\">\n<img alt=\"Ascraeus Mons\" class=\"thumb\" src=\"/spaceimages/images/wallpaper/PIA23841-640x350.jpg\" title=\"Ascraeus Mons\"/>\n</div>\n<div class=\"list_text_content\">\n<div class=\"article_teaser_body\">April 20, 2020</div>\n<div class=\"content_title\">\n\t\t\t\t\t\t\t\t\t\t  Ascraeus Mons\n\t\t\t\t\t\t\t\t\t\t</div>\n<div class=\"article_teaser_body\">\n\t\t\t\t\t\t\t\t\t\t  This image from NASAs Mars Odyssey shows the summit of Ascraeus Mons. Ascraeus Mons is the northernmost of the three aligned Tharsis volcanoes.\n\t\t\t\t\t\t\t\t\t\t</div>\n</div>\n</div>\n</a>, <a class=\"fancybox\" data-description=\"This image acquired on March 29, 2020 by NASAs Mars Reconnaissance Orbiter, shows a pitted, blocky surface, but also more unusually, it has contorted, irregular features.\" data-fancybox-group=\"images\" data-fancybox-href=\"/spaceimages/images/largesize/PIA23855_hires.jpg\" data-link=\"/spaceimages/details.php?id=PIA23855\" data-thumbnail=\"/spaceimages/images/wallpaper/PIA23855-640x350.jpg\" data-title=\"Disrupted Sediments in Acidalia Planitia\">\n<div class=\"image_and_description_container\">\n<div class=\"rollover_description\">\n<h3 class=\"release_date\">April 17, 2020</h3>\n<div class=\"item_tease_overlay\">Disrupted Sediments in Acidalia Planitia</div>\n<div class=\"overlay_arrow\">\n<img alt=\"more arrow\" src=\"/assets/images/overlay-arrow.png\"/>\n</div>\n</div>\n<div class=\"img\">\n<img alt=\"Disrupted Sediments in Acidalia Planitia\" class=\"thumb\" src=\"/spaceimages/images/wallpaper/PIA23855-640x350.jpg\" title=\"Disrupted Sediments in Acidalia Planitia\"/>\n</div>\n<div class=\"list_text_content\">\n<div class=\"article_teaser_body\">April 17, 2020</div>\n<div class=\"content_title\">\n\t\t\t\t\t\t\t\t\t\t  Disrupted Sediments in Acidalia Planitia\n\t\t\t\t\t\t\t\t\t\t</div>\n<div class=\"article_teaser_body\">\n\t\t\t\t\t\t\t\t\t\t  This image acquired on March 29, 2020 by NASAs Mars Reconnaissance Orbiter, shows a pitted, blocky surface, but also more unusually, it has contorted, irregular features.\n\t\t\t\t\t\t\t\t\t\t</div>\n</div>\n</div>\n</a>, <a class=\"fancybox\" data-description=\"This image acquired on March 27, 2020 by NASAs Mars Reconnaissance Orbiter, shows a couple of dark lineations on the equator-facing wall of this impact crater that resemble small recurring slope lineae (RSL).\" data-fancybox-group=\"images\" data-fancybox-href=\"/spaceimages/images/largesize/PIA23854_hires.jpg\" data-link=\"/spaceimages/details.php?id=PIA23854\" data-thumbnail=\"/spaceimages/images/wallpaper/PIA23854-640x350.jpg\" data-title=\"Keeping a Watchful Eye\">\n<div class=\"image_and_description_container\">\n<div class=\"rollover_description\">\n<h3 class=\"release_date\">April 17, 2020</h3>\n<div class=\"item_tease_overlay\">Keeping a Watchful Eye</div>\n<div class=\"overlay_arrow\">\n<img alt=\"more arrow\" src=\"/assets/images/overlay-arrow.png\"/>\n</div>\n</div>\n<div class=\"img\">\n<img alt=\"Keeping a Watchful Eye\" class=\"thumb\" src=\"/spaceimages/images/wallpaper/PIA23854-640x350.jpg\" title=\"Keeping a Watchful Eye\"/>\n</div>\n<div class=\"list_text_content\">\n<div class=\"article_teaser_body\">April 17, 2020</div>\n<div class=\"content_title\">\n\t\t\t\t\t\t\t\t\t\t  Keeping a Watchful Eye\n\t\t\t\t\t\t\t\t\t\t</div>\n<div class=\"article_teaser_body\">\n\t\t\t\t\t\t\t\t\t\t  This image acquired on March 27, 2020 by NASAs Mars Reconnaissance Orbiter, shows a couple of dark lineations on the equator-facing wall of this impact crater that resemble small recurring slope lineae (RSL).\n\t\t\t\t\t\t\t\t\t\t</div>\n</div>\n</div>\n</a>, <a class=\"fancybox\" data-description=\"This image acquired on March 19, 2020 by NASAs Mars Reconnaissance Orbiter, shows gullies in the sand dunes of Matara Crater.\" data-fancybox-group=\"images\" data-fancybox-href=\"/spaceimages/images/largesize/PIA23853_hires.jpg\" data-link=\"/spaceimages/details.php?id=PIA23853\" data-thumbnail=\"/spaceimages/images/wallpaper/PIA23853-640x350.jpg\" data-title=\"An Active Gully in Matara Crater\">\n<div class=\"image_and_description_container\">\n<div class=\"rollover_description\">\n<h3 class=\"release_date\">April 17, 2020</h3>\n<div class=\"item_tease_overlay\">An Active Gully in Matara Crater</div>\n<div class=\"overlay_arrow\">\n<img alt=\"more arrow\" src=\"/assets/images/overlay-arrow.png\"/>\n</div>\n</div>\n<div class=\"img\">\n<img alt=\"An Active Gully in Matara Crater\" class=\"thumb\" src=\"/spaceimages/images/wallpaper/PIA23853-640x350.jpg\" title=\"An Active Gully in Matara Crater\"/>\n</div>\n<div class=\"list_text_content\">\n<div class=\"article_teaser_body\">April 17, 2020</div>\n<div class=\"content_title\">\n\t\t\t\t\t\t\t\t\t\t  An Active Gully in Matara Crater\n\t\t\t\t\t\t\t\t\t\t</div>\n<div class=\"article_teaser_body\">\n\t\t\t\t\t\t\t\t\t\t  This image acquired on March 19, 2020 by NASAs Mars Reconnaissance Orbiter, shows gullies in the sand dunes of Matara Crater.\n\t\t\t\t\t\t\t\t\t\t</div>\n</div>\n</div>\n</a>, <a class=\"fancybox\" data-description=\"This image acquired on March 18, 2020 by NASAs Mars Reconnaissance Orbiter, shows two different targets at once, a geologically-young crater and a small even younger one.\" data-fancybox-group=\"images\" data-fancybox-href=\"/spaceimages/images/largesize/PIA23852_hires.jpg\" data-link=\"/spaceimages/details.php?id=PIA23852\" data-thumbnail=\"/spaceimages/images/wallpaper/PIA23852-640x350.jpg\" data-title=\"Two Young Craters\">\n<div class=\"image_and_description_container\">\n<div class=\"rollover_description\">\n<h3 class=\"release_date\">April 17, 2020</h3>\n<div class=\"item_tease_overlay\">Two Young Craters</div>\n<div class=\"overlay_arrow\">\n<img alt=\"more arrow\" src=\"/assets/images/overlay-arrow.png\"/>\n</div>\n</div>\n<div class=\"img\">\n<img alt=\"Two Young Craters\" class=\"thumb\" src=\"/spaceimages/images/wallpaper/PIA23852-640x350.jpg\" title=\"Two Young Craters\"/>\n</div>\n<div class=\"list_text_content\">\n<div class=\"article_teaser_body\">April 17, 2020</div>\n<div class=\"content_title\">\n\t\t\t\t\t\t\t\t\t\t  Two Young Craters\n\t\t\t\t\t\t\t\t\t\t</div>\n<div class=\"article_teaser_body\">\n\t\t\t\t\t\t\t\t\t\t  This image acquired on March 18, 2020 by NASAs Mars Reconnaissance Orbiter, shows two different targets at once, a geologically-young crater and a small even younger one.\n\t\t\t\t\t\t\t\t\t\t</div>\n</div>\n</div>\n</a>, <a class=\"fancybox\" data-description=\"This image from NASAs Mars Odyssey shows a small portion of Daedalia Planum. Daedalia Planum is an immense lava flow field that originates at Arsia Mons.\" data-fancybox-group=\"images\" data-fancybox-href=\"/spaceimages/images/largesize/PIA23840_hires.jpg\" data-link=\"/spaceimages/details.php?id=PIA23840\" data-thumbnail=\"/spaceimages/images/wallpaper/PIA23840-640x350.jpg\" data-title=\"Daedalia Planum\">\n<div class=\"image_and_description_container\">\n<div class=\"rollover_description\">\n<h3 class=\"release_date\">April 17, 2020</h3>\n<div class=\"item_tease_overlay\">Daedalia Planum</div>\n<div class=\"overlay_arrow\">\n<img alt=\"more arrow\" src=\"/assets/images/overlay-arrow.png\"/>\n</div>\n</div>\n<div class=\"img\">\n<img alt=\"Daedalia Planum\" class=\"thumb\" src=\"/spaceimages/images/wallpaper/PIA23840-640x350.jpg\" title=\"Daedalia Planum\"/>\n</div>\n<div class=\"list_text_content\">\n<div class=\"article_teaser_body\">April 17, 2020</div>\n<div class=\"content_title\">\n\t\t\t\t\t\t\t\t\t\t  Daedalia Planum\n\t\t\t\t\t\t\t\t\t\t</div>\n<div class=\"article_teaser_body\">\n\t\t\t\t\t\t\t\t\t\t  This image from NASAs Mars Odyssey shows a small portion of Daedalia Planum. Daedalia Planum is an immense lava flow field that originates at Arsia Mons.\n\t\t\t\t\t\t\t\t\t\t</div>\n</div>\n</div>\n</a>, <a class=\"fancybox\" data-description=\"This image from NASAs Mars Odyssey shows a small section of Shalbatana Vallis.\" data-fancybox-group=\"images\" data-fancybox-href=\"/spaceimages/images/largesize/PIA23839_hires.jpg\" data-link=\"/spaceimages/details.php?id=PIA23839\" data-thumbnail=\"/spaceimages/images/wallpaper/PIA23839-640x350.jpg\" data-title=\"Shalbatana Vallis\">\n<div class=\"image_and_description_container\">\n<div class=\"rollover_description\">\n<h3 class=\"release_date\">April 16, 2020</h3>\n<div class=\"item_tease_overlay\">Shalbatana Vallis</div>\n<div class=\"overlay_arrow\">\n<img alt=\"more arrow\" src=\"/assets/images/overlay-arrow.png\"/>\n</div>\n</div>\n<div class=\"img\">\n<img alt=\"Shalbatana Vallis\" class=\"thumb\" src=\"/spaceimages/images/wallpaper/PIA23839-640x350.jpg\" title=\"Shalbatana Vallis\"/>\n</div>\n<div class=\"list_text_content\">\n<div class=\"article_teaser_body\">April 16, 2020</div>\n<div class=\"content_title\">\n\t\t\t\t\t\t\t\t\t\t  Shalbatana Vallis\n\t\t\t\t\t\t\t\t\t\t</div>\n<div class=\"article_teaser_body\">\n\t\t\t\t\t\t\t\t\t\t  This image from NASAs Mars Odyssey shows a small section of Shalbatana Vallis.\n\t\t\t\t\t\t\t\t\t\t</div>\n</div>\n</div>\n</a>, <a class=\"fancybox\" data-description=\"This image from NASAs Mars Odyssey shows several windstreaks located on the volcanic plains of Daedalia Planum.\" data-fancybox-group=\"images\" data-fancybox-href=\"/spaceimages/images/largesize/PIA23838_hires.jpg\" data-link=\"/spaceimages/details.php?id=PIA23838\" data-thumbnail=\"/spaceimages/images/wallpaper/PIA23838-640x350.jpg\" data-title=\"Daedalia Planum Windstreaks\">\n<div class=\"image_and_description_container\">\n<div class=\"rollover_description\">\n<h3 class=\"release_date\">April 15, 2020</h3>\n<div class=\"item_tease_overlay\">Daedalia Planum Windstreaks</div>\n<div class=\"overlay_arrow\">\n<img alt=\"more arrow\" src=\"/assets/images/overlay-arrow.png\"/>\n</div>\n</div>\n<div class=\"img\">\n<img alt=\"Daedalia Planum Windstreaks\" class=\"thumb\" src=\"/spaceimages/images/wallpaper/PIA23838-640x350.jpg\" title=\"Daedalia Planum Windstreaks\"/>\n</div>\n<div class=\"list_text_content\">\n<div class=\"article_teaser_body\">April 15, 2020</div>\n<div class=\"content_title\">\n\t\t\t\t\t\t\t\t\t\t  Daedalia Planum Windstreaks\n\t\t\t\t\t\t\t\t\t\t</div>\n<div class=\"article_teaser_body\">\n\t\t\t\t\t\t\t\t\t\t  This image from NASAs Mars Odyssey shows several windstreaks located on the volcanic plains of Daedalia Planum.\n\t\t\t\t\t\t\t\t\t\t</div>\n</div>\n</div>\n</a>, <a class=\"fancybox\" data-description=\"Members of NASAs Curiosity Mars rover mission team photographed themselves on March 20, 2020, the first day the entire mission team worked remotely from home.\" data-fancybox-group=\"images\" data-fancybox-href=\"/spaceimages/images/largesize/PIA23773_hires.jpg\" data-link=\"/spaceimages/details.php?id=PIA23773\" data-thumbnail=\"/spaceimages/images/wallpaper/PIA23773-640x350.jpg\" data-title=\"Curiosity\" s=\"\" team=\"\" teleworks'=\"\">\n<div class=\"image_and_description_container\">\n<div class=\"rollover_description\">\n<h3 class=\"release_date\">April 14, 2020</h3>\n<div class=\"item_tease_overlay\">Curiosity's Team Teleworks</div>\n<div class=\"overlay_arrow\">\n<img alt=\"more arrow\" src=\"/assets/images/overlay-arrow.png\"/>\n</div>\n</div>\n<div class=\"img\">\n<img alt=\"Curiosity\" class=\"thumb\" s=\"\" src=\"/spaceimages/images/wallpaper/PIA23773-640x350.jpg\" team=\"\" teleworks'=\"\" title=\"Curiosity\"/>\n</div>\n<div class=\"list_text_content\">\n<div class=\"article_teaser_body\">April 14, 2020</div>\n<div class=\"content_title\">\n\t\t\t\t\t\t\t\t\t\t  Curiosity's Team Teleworks\n\t\t\t\t\t\t\t\t\t\t</div>\n<div class=\"article_teaser_body\">\n\t\t\t\t\t\t\t\t\t\t  Members of NASAs Curiosity Mars rover mission team photographed themselves on March 20, 2020, the first day the entire mission team worked remotely from home.\n\t\t\t\t\t\t\t\t\t\t</div>\n</div>\n</div>\n</a>, <a class=\"fancybox\" data-description=\"This image from NASAs Mars Odyssey shows a small portion of Olympia Undae.\" data-fancybox-group=\"images\" data-fancybox-href=\"/spaceimages/images/largesize/PIA23837_hires.jpg\" data-link=\"/spaceimages/details.php?id=PIA23837\" data-thumbnail=\"/spaceimages/images/wallpaper/PIA23837-640x350.jpg\" data-title=\"Olympia Undae\">\n<div class=\"image_and_description_container\">\n<div class=\"rollover_description\">\n<h3 class=\"release_date\">April 14, 2020</h3>\n<div class=\"item_tease_overlay\">Olympia Undae</div>\n<div class=\"overlay_arrow\">\n<img alt=\"more arrow\" src=\"/assets/images/overlay-arrow.png\"/>\n</div>\n</div>\n<div class=\"img\">\n<img alt=\"Olympia Undae\" class=\"thumb\" src=\"/spaceimages/images/wallpaper/PIA23837-640x350.jpg\" title=\"Olympia Undae\"/>\n</div>\n<div class=\"list_text_content\">\n<div class=\"article_teaser_body\">April 14, 2020</div>\n<div class=\"content_title\">\n\t\t\t\t\t\t\t\t\t\t  Olympia Undae\n\t\t\t\t\t\t\t\t\t\t</div>\n<div class=\"article_teaser_body\">\n\t\t\t\t\t\t\t\t\t\t  This image from NASAs Mars Odyssey shows a small portion of Olympia Undae.\n\t\t\t\t\t\t\t\t\t\t</div>\n</div>\n</div>\n</a>, <a class=\"fancybox\" data-description=\"This image from NASAs Mars Odyssey shows an unnamed crater in Arabia Terra.\" data-fancybox-group=\"images\" data-fancybox-href=\"/spaceimages/images/largesize/PIA23836_hires.jpg\" data-link=\"/spaceimages/details.php?id=PIA23836\" data-thumbnail=\"/spaceimages/images/wallpaper/PIA23836-640x350.jpg\" data-title=\"Dark Slope Streaks\">\n<div class=\"image_and_description_container\">\n<div class=\"rollover_description\">\n<h3 class=\"release_date\">April 13, 2020</h3>\n<div class=\"item_tease_overlay\">Dark Slope Streaks</div>\n<div class=\"overlay_arrow\">\n<img alt=\"more arrow\" src=\"/assets/images/overlay-arrow.png\"/>\n</div>\n</div>\n<div class=\"img\">\n<img alt=\"Dark Slope Streaks\" class=\"thumb\" src=\"/spaceimages/images/wallpaper/PIA23836-640x350.jpg\" title=\"Dark Slope Streaks\"/>\n</div>\n<div class=\"list_text_content\">\n<div class=\"article_teaser_body\">April 13, 2020</div>\n<div class=\"content_title\">\n\t\t\t\t\t\t\t\t\t\t  Dark Slope Streaks\n\t\t\t\t\t\t\t\t\t\t</div>\n<div class=\"article_teaser_body\">\n\t\t\t\t\t\t\t\t\t\t  This image from NASAs Mars Odyssey shows an unnamed crater in Arabia Terra.\n\t\t\t\t\t\t\t\t\t\t</div>\n</div>\n</div>\n</a>, <a class=\"fancybox\" data-description=\"This image from NASAs Mars Odyssey shows part of Olympia Undae, a vast sand sea near the north pole.\" data-fancybox-group=\"images\" data-fancybox-href=\"/spaceimages/images/largesize/PIA23835_hires.jpg\" data-link=\"/spaceimages/details.php?id=PIA23835\" data-thumbnail=\"/spaceimages/images/wallpaper/PIA23835-640x350.jpg\" data-title=\"Olympia Undae\">\n<div class=\"image_and_description_container\">\n<div class=\"rollover_description\">\n<h3 class=\"release_date\">April 10, 2020</h3>\n<div class=\"item_tease_overlay\">Olympia Undae</div>\n<div class=\"overlay_arrow\">\n<img alt=\"more arrow\" src=\"/assets/images/overlay-arrow.png\"/>\n</div>\n</div>\n<div class=\"img\">\n<img alt=\"Olympia Undae\" class=\"thumb\" src=\"/spaceimages/images/wallpaper/PIA23835-640x350.jpg\" title=\"Olympia Undae\"/>\n</div>\n<div class=\"list_text_content\">\n<div class=\"article_teaser_body\">April 10, 2020</div>\n<div class=\"content_title\">\n\t\t\t\t\t\t\t\t\t\t  Olympia Undae\n\t\t\t\t\t\t\t\t\t\t</div>\n<div class=\"article_teaser_body\">\n\t\t\t\t\t\t\t\t\t\t  This image from NASAs Mars Odyssey shows part of Olympia Undae, a vast sand sea near the north pole.\n\t\t\t\t\t\t\t\t\t\t</div>\n</div>\n</div>\n</a>, <a class=\"fancybox\" data-description=\"This image from NASAs Mars Odyssey shows a section of one of the numerous channels that dissect the northern margin on Arabia Terra.\" data-fancybox-group=\"images\" data-fancybox-href=\"/spaceimages/images/largesize/PIA23834_hires.jpg\" data-link=\"/spaceimages/details.php?id=PIA23834\" data-thumbnail=\"/spaceimages/images/wallpaper/PIA23834-640x350.jpg\" data-title=\"Arabia Terra Channel\">\n<div class=\"image_and_description_container\">\n<div class=\"rollover_description\">\n<h3 class=\"release_date\">April 9, 2020</h3>\n<div class=\"item_tease_overlay\">Arabia Terra Channel</div>\n<div class=\"overlay_arrow\">\n<img alt=\"more arrow\" src=\"/assets/images/overlay-arrow.png\"/>\n</div>\n</div>\n<div class=\"img\">\n<img alt=\"Arabia Terra Channel\" class=\"thumb\" src=\"/spaceimages/images/wallpaper/PIA23834-640x350.jpg\" title=\"Arabia Terra Channel\"/>\n</div>\n<div class=\"list_text_content\">\n<div class=\"article_teaser_body\">April 9, 2020</div>\n<div class=\"content_title\">\n\t\t\t\t\t\t\t\t\t\t  Arabia Terra Channel\n\t\t\t\t\t\t\t\t\t\t</div>\n<div class=\"article_teaser_body\">\n\t\t\t\t\t\t\t\t\t\t  This image from NASAs Mars Odyssey shows a section of one of the numerous channels that dissect the northern margin on Arabia Terra.\n\t\t\t\t\t\t\t\t\t\t</div>\n</div>\n</div>\n</a>, <a class=\"fancybox\" data-description=\"This image from NASAs Mars Odyssey shows Olympia Undae during north polar summer.\" data-fancybox-group=\"images\" data-fancybox-href=\"/spaceimages/images/largesize/PIA23833_hires.jpg\" data-link=\"/spaceimages/details.php?id=PIA23833\" data-thumbnail=\"/spaceimages/images/wallpaper/PIA23833-640x350.jpg\" data-title=\"Olympia Undae\">\n<div class=\"image_and_description_container\">\n<div class=\"rollover_description\">\n<h3 class=\"release_date\">April 8, 2020</h3>\n<div class=\"item_tease_overlay\">Olympia Undae</div>\n<div class=\"overlay_arrow\">\n<img alt=\"more arrow\" src=\"/assets/images/overlay-arrow.png\"/>\n</div>\n</div>\n<div class=\"img\">\n<img alt=\"Olympia Undae\" class=\"thumb\" src=\"/spaceimages/images/wallpaper/PIA23833-640x350.jpg\" title=\"Olympia Undae\"/>\n</div>\n<div class=\"list_text_content\">\n<div class=\"article_teaser_body\">April 8, 2020</div>\n<div class=\"content_title\">\n\t\t\t\t\t\t\t\t\t\t  Olympia Undae\n\t\t\t\t\t\t\t\t\t\t</div>\n<div class=\"article_teaser_body\">\n\t\t\t\t\t\t\t\t\t\t  This image from NASAs Mars Odyssey shows Olympia Undae during north polar summer.\n\t\t\t\t\t\t\t\t\t\t</div>\n</div>\n</div>\n</a>, <a class=\"fancybox\" data-description=\"This image from NASAs Mars Odyssey shows Inuvik Crater. Located near the north polar cap, this crater is 20 km (12 miles) in diameter.\" data-fancybox-group=\"images\" data-fancybox-href=\"/spaceimages/images/largesize/PIA23832_hires.jpg\" data-link=\"/spaceimages/details.php?id=PIA23832\" data-thumbnail=\"/spaceimages/images/wallpaper/PIA23832-640x350.jpg\" data-title=\"Inuvik Crater Dunes\">\n<div class=\"image_and_description_container\">\n<div class=\"rollover_description\">\n<h3 class=\"release_date\">April 7, 2020</h3>\n<div class=\"item_tease_overlay\">Inuvik Crater Dunes</div>\n<div class=\"overlay_arrow\">\n<img alt=\"more arrow\" src=\"/assets/images/overlay-arrow.png\"/>\n</div>\n</div>\n<div class=\"img\">\n<img alt=\"Inuvik Crater Dunes\" class=\"thumb\" src=\"/spaceimages/images/wallpaper/PIA23832-640x350.jpg\" title=\"Inuvik Crater Dunes\"/>\n</div>\n<div class=\"list_text_content\">\n<div class=\"article_teaser_body\">April 7, 2020</div>\n<div class=\"content_title\">\n\t\t\t\t\t\t\t\t\t\t  Inuvik Crater Dunes\n\t\t\t\t\t\t\t\t\t\t</div>\n<div class=\"article_teaser_body\">\n\t\t\t\t\t\t\t\t\t\t  This image from NASAs Mars Odyssey shows Inuvik Crater. Located near the north polar cap, this crater is 20 km (12 miles) in diameter.\n\t\t\t\t\t\t\t\t\t\t</div>\n</div>\n</div>\n</a>]\n"
    }
   ],
   "source": [
    "jpl_nasa_url = ('https://www.jpl.nasa.gov/spaceimages/?search=&category=Mars')\n",
    "\n",
    "response = req.get(jpl_nasa_url)\n",
    "soup = bs(response.text, 'html.parser')\n",
    "# soup = bs(response.text, 'html5lib')\n",
    "\n",
    "# print(soup.prettify())\n",
    "images = soup.find_all('a', class_=\"fancybox\")\n",
    "print(images)"
   ]
  },
  {
   "cell_type": "code",
   "execution_count": 6,
   "metadata": {},
   "outputs": [
    {
     "output_type": "execute_result",
     "data": {
      "text/plain": "'https://www.jpl.nasa.gov/spaceimages/images/largesize/PIA23832_hires.jpg'"
     },
     "metadata": {},
     "execution_count": 6
    }
   ],
   "source": [
    "pic_src = []\n",
    "for image in images:\n",
    "    pic = image['data-fancybox-href']\n",
    "    pic_src.append(pic)\n",
    "\n",
    "featured_image_url = 'https://www.jpl.nasa.gov' + pic\n",
    "featured_image_url"
   ]
  },
  {
   "cell_type": "markdown",
   "metadata": {},
   "source": [
    "## Mars Weather"
   ]
  },
  {
   "cell_type": "code",
   "execution_count": 7,
   "metadata": {},
   "outputs": [
    {
     "output_type": "execute_result",
     "data": {
      "text/plain": "Empty DataFrame\nColumns: []\nIndex: [(Equatorial Diameter:, 6,792 km), (Polar Diameter:, 6,752 km), (Mass:, 6.39 × 10^23 kg (0.11 Earths)), (Moons:, 2 (Phobos & Deimos)), (Orbit Distance:, 227,943,824 km (1.38 AU)), (Orbit Period:, 687 days (1.9 years)), (Surface Temperature:, -87 to -5 °C), (First Record:, 2nd millennium BC), (Recorded By:, Egyptian astronomers)]",
      "text/html": "<div>\n<style scoped>\n    .dataframe tbody tr th:only-of-type {\n        vertical-align: middle;\n    }\n\n    .dataframe tbody tr th {\n        vertical-align: top;\n    }\n\n    .dataframe thead th {\n        text-align: right;\n    }\n</style>\n<table border=\"1\" class=\"dataframe\">\n  <thead>\n    <tr style=\"text-align: right;\">\n      <th></th>\n      <th></th>\n    </tr>\n    <tr>\n      <th>Mars Profile</th>\n      <th>Data</th>\n    </tr>\n  </thead>\n  <tbody>\n    <tr>\n      <td>Equatorial Diameter:</td>\n      <td>6,792 km</td>\n    </tr>\n    <tr>\n      <td>Polar Diameter:</td>\n      <td>6,752 km</td>\n    </tr>\n    <tr>\n      <td>Mass:</td>\n      <td>6.39 × 10^23 kg (0.11 Earths)</td>\n    </tr>\n    <tr>\n      <td>Moons:</td>\n      <td>2 (Phobos &amp; Deimos)</td>\n    </tr>\n    <tr>\n      <td>Orbit Distance:</td>\n      <td>227,943,824 km (1.38 AU)</td>\n    </tr>\n    <tr>\n      <td>Orbit Period:</td>\n      <td>687 days (1.9 years)</td>\n    </tr>\n    <tr>\n      <td>Surface Temperature:</td>\n      <td>-87 to -5 °C</td>\n    </tr>\n    <tr>\n      <td>First Record:</td>\n      <td>2nd millennium BC</td>\n    </tr>\n    <tr>\n      <td>Recorded By:</td>\n      <td>Egyptian astronomers</td>\n    </tr>\n  </tbody>\n</table>\n</div>"
     },
     "metadata": {},
     "execution_count": 7
    }
   ],
   "source": [
    "mars_facts_url = ('https://space-facts.com/mars/')\n",
    "response = req.get(mars_facts_url)\n",
    "table = pd.read_html(mars_facts_url)\n",
    "table[0]\n",
    "df = table[0]\n",
    "df.columns = [\"Mars Profile\", \"Data\"]\n",
    "df.set_index([\"Mars Profile\", \"Data\"], inplace=True)\n",
    "df"
   ]
  },
  {
   "cell_type": "code",
   "execution_count": 8,
   "metadata": {},
   "outputs": [
    {
     "output_type": "stream",
     "name": "stdout",
     "text": "\n\n\n\n\nMars Weather‏ @MarsWxReport\n\nMay 18\n\n\n\n\n\n\nMore\n\n\n\n\n\n\n\n\n\nCopy link to Tweet\n\n\nEmbed Tweet\n\n\n\n\n\n\n\nInSight sol 524 (2020-05-18) low -92.5ºC (-134.4ºF) high 0.5ºC (32.9ºF)\nwinds from the SW at 4.8 m/s (10.7 mph) gusting to 15.3 m/s (34.3 mph)\npressure at 7.00 hPapic.twitter.com/AfMcuTlHqs\n\n\n\n\n\n\n\n\n\n\n\n\n\n\n\n\n1 reply\n\n\n\n\n4 retweets\n\n\n\n\n22 likes\n\n\n\n\n\n\n\n\nReply\n\n\n1\n\n\n\n\n\n\n\nRetweet\n\n\n4\n\n\n\n\nRetweeted\n\n\n4\n\n\n\n\n\n\n\n\nLike\n\n\n22\n\n\n\n\n\nLiked\n\n\n22\n\n\n\n\n\n\n\nInSight sol 516 (2020-05-09) low -93.2ºC (-135.7ºF) high 1.4ºC (34.5ºF)\nwinds from the SW at 4.9 m/s (11.0 mph) gusting to 13.8 m/s (31.0 mph)\npressure at 6.90 hPapic.twitter.com/adp25Zf8pf\n\n"
    }
   ],
   "source": [
    "twit_url = ('https://twitter.com/marswxreport?lang=en')\n",
    "\n",
    "response = req.get(twit_url)\n",
    "soup = bs(response.text, 'html.parser')\n",
    "# soup = bs(response.text, 'html5lib')\n",
    "\n",
    "# print(soup.prettify())\n",
    "content = soup.find_all('div', class_=\"content\")\n",
    "# print(content)\n",
    "print(content[0].text)\n",
    "\n",
    "mars_weather = []\n",
    "for content in content:\n",
    "    tweet = content.find(\"div\", class_=\"js-tweet-text-container\").text\n",
    "    mars_weather.append(tweet)\n",
    "#print(mars_weather)\n",
    "\n",
    "mars_weather = mars_weather[8]\n",
    "print(mars_weather)"
   ]
  },
  {
   "cell_type": "markdown",
   "metadata": {},
   "source": [
    "# Mars Facts"
   ]
  },
  {
   "cell_type": "code",
   "execution_count": 9,
   "metadata": {},
   "outputs": [
    {
     "output_type": "execute_result",
     "data": {
      "text/plain": "'<table border=\"1\" class=\"dataframe\">  <thead>    <tr style=\"text-align: right;\">      <th></th>      <th></th>    </tr>    <tr>      <th>Mars Profile</th>      <th>Data</th>    </tr>  </thead>  <tbody>    <tr>      <th>Equatorial Diameter:</th>      <th>6,792 km</th>    </tr>    <tr>      <th>Polar Diameter:</th>      <th>6,752 km</th>    </tr>    <tr>      <th>Mass:</th>      <th>6.39 × 10^23 kg (0.11 Earths)</th>    </tr>    <tr>      <th>Moons:</th>      <th>2 (Phobos &amp; Deimos)</th>    </tr>    <tr>      <th>Orbit Distance:</th>      <th>227,943,824 km (1.38 AU)</th>    </tr>    <tr>      <th>Orbit Period:</th>      <th>687 days (1.9 years)</th>    </tr>    <tr>      <th>Surface Temperature:</th>      <th>-87 to -5 °C</th>    </tr>    <tr>      <th>First Record:</th>      <th>2nd millennium BC</th>    </tr>    <tr>      <th>Recorded By:</th>      <th>Egyptian astronomers</th>    </tr>  </tbody></table>'"
     },
     "metadata": {},
     "execution_count": 9
    }
   ],
   "source": [
    "mars_facts_profile_df = df\n",
    "mars_profile_html = mars_facts_profile_df.to_html()\n",
    "mars_profile_html\n",
    "mars_profile_html.replace('\\n', '')"
   ]
  },
  {
   "cell_type": "markdown",
   "metadata": {},
   "source": [
    "## Mars Hemispheres"
   ]
  },
  {
   "cell_type": "code",
   "execution_count": 10,
   "metadata": {},
   "outputs": [],
   "source": [
    "hemisphere_image_urls = [('https://astrogeology.usgs.gov/search/results?q=hemisphere+enhanced&k1=target&v1=Mars')]"
   ]
  },
  {
   "cell_type": "code",
   "execution_count": 11,
   "metadata": {},
   "outputs": [
    {
     "output_type": "stream",
     "name": "stdout",
     "text": "<!DOCTYPE html>\n<html lang=\"en\">\n <head>\n  <link href=\"//ajax.googleapis.com/ajax/libs/jqueryui/1.11.4/themes/smoothness/jquery-ui.css\" rel=\"stylesheet\" type=\"text/css\"/>\n  <title>\n   Cerberus Hemisphere Enhanced | USGS Astrogeology Science Center\n  </title>\n  <meta content=\"Mosaic of the Cerberus hemisphere of Mars projected into point perspective, a view similar to that which one would see from…\" name=\"description\"/>\n  <meta content=\"USGS,Astrogeology Science Center,Cartography,Geology,Space,Geological Survey,Mapping\" name=\"keywords\"/>\n  <meta content=\"IE=edge\" http-equiv=\"X-UA-Compatible\"/>\n  <meta content=\"text/html; charset=utf-8\" http-equiv=\"Content-Type\"/>\n  <meta content=\"width=device-width, initial-scale=1, maximum-scale=1\" name=\"viewport\"/>\n  <meta content=\"x61hXXVj7wtfBSNOPnTftajMsZ5yB2W-qRoyr7GtOKM\" name=\"google-site-verification\"/>\n  <!--<link rel=\"stylesheet\" href=\"http://fonts.googleapis.com/css?family=Open+Sans:400italic,400,bold\"/>-->\n  <link href=\"/css/main.css\" media=\"screen\" rel=\"stylesheet\"/>\n  <link href=\"/css/print.css\" media=\"print\" rel=\"stylesheet\"/>\n  <!--[if lt IE 9]>\n\t\t\t<script src=\"http://html5shiv.googlecode.com/svn/trunk/html5.js\"></script>\n\t\t\t<script src=\"/js/respond.min.js\"></script>\n\t\t\t<link rel=\"stylesheet\" type=\"text/css\" href=\"/css/ie.css\"/>\n                        <script>\n                          document.createElement('header');\n                          document.createElement('nav');\n                          document.createElement('section');\n                          document.createElement('article');\n                          document.createElement('aside');\n                          document.createElement('footer');\n                          document.createElement('hgroup');\n                        </script>\n                  <![endif]-->\n  <link href=\"/favicon.ico\" rel=\"icon\" type=\"image/x-ico\"/>\n </head>\n <body id=\"splashy\">\n  <header>\n   <!--\n\t\t\t<h1>Astrogeology Science Center</h1>\n-->\n   <a href=\"https://www.usgs.gov/centers/astrogeo-sc\" style=\"float:right;margin-top:10px;\" target=\"_blank\">\n    <img alt=\"USGS: Science for a Changing World\" class=\"logo\" height=\"60\" src=\"/images/usgs_logo_main_2x.png\"/>\n   </a>\n   <a href=\"https://nasa.gov\" style=\"float:right;margin-top:5px;margin-right:20px;\" target=\"_blank\">\n    <img alt=\"NASA\" class=\"logo\" height=\"65\" src=\"/images/logos/nasa-logo-web-med.png\"/>\n   </a>\n   <a href=\"https://www.usgs.gov/centers/astrogeology-science-center/science/pds-cartography-and-imaging-sciences-node-usgs\" style=\"float:right;margin-top:5px;margin-right: 10px;\" target=\"_blank\">\n    <img alt=\"PDS Cartography and Imaging Science Node\" class=\"logo\" height=\"65\" src=\"/images/pds_logo-invisible-web.png\"/>\n   </a>\n  </header>\n  <div class=\"wrapper\">\n   <!--\n\t\t\t<nav>\n\t\t\t\t<a id=\"nav-toggle\" href=\"#\" title=\"Navigation Menu\">Menu</a>\n<ul class=\"dropdown dropdown-horizontal\" id=\"yw0\">\n<li><a href=\"/\">Home</a></li>\n<li><a href=\"/about\">About</a>\n<ul>\n<li><a href=\"/about/careers\">Careers</a></li>\n<li><a href=\"/contact\">Contact</a></li>\n<li><a href=\"/about/events\">Events</a></li>\n<li><a href=\"/site/glossary\">Glossary</a></li>\n<li><a href=\"/about/mission\">Mission</a></li>\n<li><a href=\"/news\">News</a></li>\n<li><a href=\"/people\">People</a></li>\n<li><a href=\"/about/using-our-images\">Using Our Images</a></li>\n<li><a href=\"/about/visitors\">Visitors</a></li>\n</ul>\n</li>\n<li><a href=\"/facilities\">Labs / Facilities</a>\n<ul>\n<li><a href=\"/facilities/flynn-creek-crater-sample-collection\">Flynn Creek Crater Sample Collection</a></li>\n<li><a href=\"http://www.moon-cal.org\">Lunar Calibration Project</a></li>\n<li><a href=\"/facilities/meteor-crater-sample-collection\">Meteor Crater Sample Collection</a></li>\n<li><a href=\"/facilities/mrctr\">MRCTR GIS Lab</a></li>\n<li><a href=\"/facilities/cartography-and-imaging-sciences-node-of-nasa-planetary-data-system\">PDS Cartography and Imaging Sciences Node</a></li>\n<li><a href=\"/pds/annex\">PDS IMG Annex</a></li>\n<li><a href=\"/facilities/photogrammetry-guest-facility\">Photogrammetry Guest Facility</a></li>\n<li><a href=\"/rpif\">Regional Planetary Information Facility (RPIF)</a></li>\n</ul>\n</li>\n<li><a href=\"/maps\">Maps / Products</a>\n<ul>\n<li><a href=\"/search\">Product Search</a></li>\n<li><a href=\"http://planetarynames.wr.usgs.gov\">Gazetteer of Planetary Nomenclature</a></li>\n<li><a href=\"http://planetarymapping.wr.usgs.gov\">Geologic Mapping Program</a></li>\n<li><a href=\"http://pilot.wr.usgs.gov\">Planetary Image Locator Tool (PILOT)</a></li>\n<li><a href=\"/search/planetary-index\">Planetary Map Index</a></li>\n</ul>\n</li>\n<li><a href=\"/geology\">Missions / Research</a>\n<ul>\n<li><a href=\"/geology/mars-dunes\">Mars Dunes</a></li>\n<li><a href=\"/geology/mars-ice\">Mars Ice</a></li>\n<li><a href=\"/missions\">Mission Support</a></li>\n<li><a href=\"/solar-system\">Solar System</a></li>\n<li><a href=\"/groups\">Working Groups</a></li>\n</ul>\n</li>\n<li><a href=\"/tools\">Tools</a>\n<ul>\n<li><a href=\"http://planetarynames.wr.usgs.gov\">Gazetteer of Planetary Nomenclature</a></li>\n<li><a href=\"http://isis.astrogeology.usgs.gov\">Integrated Software for Imagers and Spectrometers (ISIS)</a></li>\n<li><a href=\"http://astrogeology.usgs.gov/tools/map-a-planet-2\">Map a Planet 2</a></li>\n<li><a href=\"http://pilot.wr.usgs.gov\">Planetary Image Locator Tool (PILOT)</a></li>\n<li><a href=\"http://astrocloud.wr.usgs.gov/\">Projection on the Web (POW)</a></li>\n</ul>\n</li>\n</ul>\t\t\t\t<form id=\"search\" class=\"search\" action=\"/search/results\" method=\"get\">\n\t\t\t\t\t<input type=\"submit\" value=\"\" title=\"Search Astropedia\"/>\n\t\t\t\t\t<input type=\"text\" placeholder=\"Search\" name=\"q\"/>\n\t\t\t\t</form>\n\t\t\t</nav>\n-->\n   <div class=\"container\">\n    <div class=\"widget block bar\">\n     <a href=\"/search\" style=\"float:right;text-decoration:none;\">\n      <img alt=\"Astropedia\" src=\"/images/astropedia/astropedia-logo-main.png\" style=\"width:200px;border:none;float:right;\"/>\n      <div style=\"clear:both;font-size:.8em;float:right;color:#888;\">\n       Lunar and Planetary Cartographic Catalog\n      </div>\n     </a>\n     <div style=\"float:left;height:60px;\">\n     </div>\n    </div>\n    <div class=\"wide-image-wrapper\" id=\"wide-image\">\n     <div class=\"downloads\">\n      <img class=\"thumb\" src=\"/cache/images/39d3266553462198bd2fbc4d18fbed17_cerberus_enhanced.tif_thumb.png\"/>\n      <h3>\n       Download\n      </h3>\n      <ul>\n       <li>\n        <a href=\"https://astropedia.astrogeology.usgs.gov/download/Mars/Viking/cerberus_enhanced.tif/full.jpg\" target=\"_blank\">\n         Sample\n        </a>\n        (jpg) 1024px wide\n       </li>\n       <li>\n        <a href=\"https://astropedia.astrogeology.usgs.gov/download/Mars/Viking/cerberus_enhanced.tif\" target=\"_blank\">\n         Original\n        </a>\n        (tif) 21 MB\n       </li>\n      </ul>\n     </div>\n     <img class=\"wide-image\" src=\"/cache/images/f5e372a36edfa389625da6d0cc25d905_cerberus_enhanced.tif_full.jpg\"/>\n     <a class=\"open-toggle\" href=\"#open\" id=\"wide-image-toggle\">\n      Open\n     </a>\n    </div>\n    <div class=\"content\">\n     <section class=\"block metadata\">\n      <!--\n-->\n      <h2 class=\"title\">\n       Cerberus Hemisphere Enhanced\n      </h2>\n      <p>\n       Mosaic of the Cerberus hemisphere of Mars projected into point perspective, a view similar to that which one would see from a spacecraft. This mosaic is composed of 104 Viking Orbiter images acquired on February 11, 1980. At that time, it was early northern summer on Mars. The center of the image is at latitude 3 degrees, longitude 185 degrees.\n      </p>\n      <dl>\n       <dt>\n        Mimetype\n       </dt>\n       <!--\n\t\t\t\t<dd><a href=\"/search/results?m=image/tiff\">image/tiff</a></dd>\n\t\t\t\t   -->\n       <dd>\n        image/tiff\n       </dd>\n       <dt>\n        Filename\n       </dt>\n       <dd>\n        <a href=\"https://astropedia.astrogeology.usgs.gov/download/Mars/Viking/cerberus_enhanced.tif\">\n         cerberus_enhanced.tif\n        </a>\n       </dd>\n       <dt>\n        Originator\n       </dt>\n       <dd>\n       </dd>\n       <dt>\n        Group\n       </dt>\n       <dd>\n       </dd>\n       <dt>\n        Added to Astropedia\n       </dt>\n       <dd>\n        29 September 2011\n       </dd>\n       <dt>\n        Modified\n       </dt>\n       <dd>\n        3 November 2017\n       </dd>\n      </dl>\n      <h2>\n       General\n      </h2>\n      <dl>\n       <dt>\n        Geospatial Data Presentation Form\n       </dt>\n       <dd>\n        <a href=\"/search/results?k1=geospatial_data_presentation_form&amp;v1=Global+Mosaic\">\n         Global Mosaic\n        </a>\n       </dd>\n      </dl>\n      <h2>\n       Keywords\n      </h2>\n      <dl>\n       <dt>\n        Target\n       </dt>\n       <dd>\n        <a href=\"/search?pmi-target=mars\">\n         Mars\n        </a>\n       </dd>\n       <dt>\n        Mission\n       </dt>\n       <dd>\n        <a href=\"/search/results?k1=mission&amp;v1=Viking+Orbiter\">\n         Viking Orbiter\n        </a>\n       </dd>\n      </dl>\n      <h2>\n       Geospatial Information\n      </h2>\n      <dl>\n       <dt>\n        Quad Name\n       </dt>\n       <dd>\n       </dd>\n      </dl>\n     </section>\n    </div>\n    <div class=\"sidebar\">\n     <div class=\"block\">\n      <h3 class=\"title\">\n       FGDC:\n       <a download=\"\" href=\"#\" id=\"fgdcLink\" style=\"text-decoration:none;\">\n        xml metadata\n       </a>\n      </h3>\n      <script>\n       var currentURL = window.location.href+'.xml';\n       document.getElementById('fgdcLink').href=currentURL;\n      </script>\n     </div>\n     <div class=\"block\">\n      <h3 class=\"title\">\n       Related Products\n      </h3>\n      <a class=\"item\" href=\"/search/map/Mars/Viking/valles_marineris_unenhanced\">\n       <img alt=\"Valles Marineris Hemisphere Unenhanced thumbnail\" class=\"thumb description-thumb\" src=\"/cache/images/f789a481f60deaf01996343999491211_valles_marineris_unenhanced.tif_thumb.png\"/>\n       <div class=\"description\">\n        <h3>\n         Valles Marineris Hemisphere Unenhanced\n        </h3>\n        <p>\n         Mosaic of the Valles Marineris hemisphere of Mars projected into…\n        </p>\n       </div>\n      </a>\n      <a class=\"item\" href=\"/search/map/Mars/Viking/valles_marineris_enhanced\">\n       <img alt=\"Valles Marineris Hemisphere Enhanced thumbnail\" class=\"thumb description-thumb\" src=\"/cache/images/4e59980c1c57f89c680c0e1ccabbeff1_valles_marineris_enhanced.tif_thumb.png\"/>\n       <div class=\"description\">\n        <h3>\n         Valles Marineris Hemisphere Enhanced\n        </h3>\n        <p>\n         Mosaic of the Valles Marineris hemisphere of Mars projected into…\n        </p>\n       </div>\n      </a>\n      <a class=\"item\" href=\"/search/map/Mars/Viking/syrtis_major_unenhanced\">\n       <img alt=\"Syrtis Major Hemisphere Unenhanced thumbnail\" class=\"thumb description-thumb\" src=\"/cache/images/79133220f6cb61a5a091ce8ecee3e554_syrtis_major_unenhanced.tif_thumb.png\"/>\n       <div class=\"description\">\n        <h3>\n         Syrtis Major Hemisphere Unenhanced\n        </h3>\n        <p>\n         Mosaic of the Syrtis Major hemisphere of Mars projected into point…\n        </p>\n       </div>\n      </a>\n      <a class=\"item\" href=\"/search/map/Mars/Viking/syrtis_major_enhanced\">\n       <img alt=\"Syrtis Major Hemisphere Enhanced thumbnail\" class=\"thumb description-thumb\" src=\"/cache/images/55a0a1e2796313fdeafb17c35925e8ac_syrtis_major_enhanced.tif_thumb.png\"/>\n       <div class=\"description\">\n        <h3>\n         Syrtis Major Hemisphere Enhanced\n        </h3>\n        <p>\n         Mosaic of the Syrtis Major hemisphere of Mars projected into point…\n        </p>\n       </div>\n      </a>\n      <a class=\"item\" href=\"/search/map/Mars/Viking/schiaparelli_unenhanced\">\n       <img alt=\"Schiaparelli Hemisphere Unenhanced thumbnail\" class=\"thumb description-thumb\" src=\"/cache/images/158e3984b3b1dcdb73f87897a0be0fe6_schiaparelli_unenhanced.tif_thumb.png\"/>\n       <div class=\"description\">\n        <h3>\n         Schiaparelli Hemisphere Unenhanced\n        </h3>\n        <p>\n         Mosaic of the Schiaparelli hemisphere of Mars projected into point…\n        </p>\n       </div>\n      </a>\n      <ul class=\"page-numbers\">\n       <li>\n        <a class=\"active\" href=\"/search/map/Mars/Viking/cerberus_enhanced?p=1&amp;pb=1#downloads\">\n         1\n        </a>\n       </li>\n       <li>\n        <a class=\"\" href=\"/search/map/Mars/Viking/cerberus_enhanced?p=2&amp;pb=1#downloads\">\n         2\n        </a>\n       </li>\n      </ul>\n     </div>\n    </div>\n   </div>\n   <div class=\"icons projects black scroll-wrapper\">\n    <div class=\"scroll\">\n     <a class=\"icon\" href=\"http://isis.astrogeology.usgs.gov\" title=\"Integrated Software for Imagers and Spectrometers\">\n      <img alt=\"ISIS Logo\" height=\"112\" src=\"/images/logos/isis_2x.jpg\" width=\"112\"/>\n      <span class=\"label\">\n       ISIS\n      </span>\n     </a>\n     <a class=\"icon\" href=\"http://planetarynames.wr.usgs.gov\" title=\"Gazetteer of Planetary Nomenclature\">\n      <img alt=\"Nomenclature Logo\" height=\"112\" src=\"/images/logos/nomenclature_2x.jpg\" width=\"112\"/>\n      <span class=\"label\">\n       Planetary Nomenclature\n      </span>\n     </a>\n     <a class=\"icon\" href=\"https://astrogeology.usgs.gov/tools/map-a-planet-2\" title=\"Map a Planet 2\">\n      <img alt=\"Map-a-Planet Logo\" height=\"112\" src=\"/images/logos/map_a_planet_2x.jpg\" width=\"112\"/>\n      <span class=\"label\">\n       Map a Planet 2\n      </span>\n     </a>\n     <a class=\"icon\" href=\"https://www.usgs.gov/centers/astrogeo-sc/science/cartography-and-imaging-sciences-node-nasa-planetary-data-system\" title=\"PDS Cartography and Imaging Science Node\">\n      <img alt=\"PDS Logo\" height=\"112\" src=\"/images/pds_logo-black-web.png\"/>\n      <span class=\"label\">\n       PDS Cartography and Imaging Science Node\n      </span>\n     </a>\n     <!--\n\t\t\t\t\t\t<a title=\"Astropedia Search\" href=\"/search\" class=\"icon\">\n\t\t\t\t\t\t\t<img alt=\"Astropedia Logo\" height=\"112\" width=\"112\" src=\"/images/logos/astropedia_2x.jpg\"/>\n\t\t\t\t\t\t\t<span class=\"label\">Astropedia</span>\n\t\t\t\t\t\t</a>\n-->\n     <a class=\"icon\" href=\"https://www.usgs.gov/centers/astrogeo-sc/science/regional-planetary-image-facility-rpif\" title=\"Regional Planetary Image Facility\">\n      <img alt=\"RPIF Logo\" height=\"112\" src=\"/images/logos/rpif_2x.jpg\" width=\"112\"/>\n      <span class=\"label\">\n       RPIF\n      </span>\n     </a>\n     <a class=\"icon\" href=\"\" title=\"Photogrammetry Guest Facility\">\n      <img alt=\"Photogrammetry Guest Faciltiy Logo\" height=\"112\" src=\"/images/logos/photogrammetry_2x.jpg\" width=\"112\"/>\n      <span class=\"label\">\n       Photogrammetry Guest Facility\n      </span>\n     </a>\n     <a class=\"icon\" href=\"http://pilot.wr.usgs.gov\" title=\"Planetary Image Locator Tool\">\n      <img alt=\"Pilot Logo\" height=\"112\" src=\"/images/logos/pilot_2x.jpg\" width=\"112\"/>\n      <span class=\"label\">\n       PILOT\n      </span>\n     </a>\n     <a class=\"icon\" href=\"https://www.usgs.gov/centers/astrogeo-sc/science/mrctr-gis-lab\" title=\"Mapping, Remote-sensing, Cartography, Technology and Research GIS Lab\">\n      <img alt=\"MRCTR GIS Lab Logo\" height=\"112\" src=\"/images/logos/mrctr_man_2x.png\" width=\"112\"/>\n      <span class=\"label\">\n       MRCTR GIS Lab\n      </span>\n     </a>\n    </div>\n   </div>\n   <footer>\n    <div class=\"left\">\n     <a href=\"http://astrogeology.usgs.gov/search\">\n      Search\n     </a>\n     |\n     <a href=\"http://astrogeology.usgs.gov/maps/about\">\n      About\n     </a>\n     |\n     <a href=\"http://astrogeology.usgs.gov/maps/contact\">\n      Contact\n     </a>\n    </div>\n    <div class=\"right\">\n     <a href=\"https://www.usgs.gov/centers/astrogeo-sc\">\n      USGS Astrogeology Science Center\n     </a>\n    </div>\n   </footer>\n  </div>\n  <!--\n\t\t<div class=\"credit\">\n\t\t\t<small>Background Credits: NASA/USGS</small>\n\t\t</div>\n-->\n  <div class=\"page-background\" style=\"\n\t\t\tbackground:url('/images/backgrounds/mars.jpg');\n\t\t\tfilter:progid:DXImageTransform.Microsoft.AlphaImageLoader(\n\t\t\t\tsrc='/images/backgrounds/mars.jpg', sizingMethod='scale');\n\t\t\">\n  </div>\n  <script type=\"text/javascript\">\n   var baseUrl = \"\";\n\n/*\nvar _gaq = _gaq || [];_gaq.push(['_setAccount', 'UA-27613186-1']);_gaq.push(['_trackPageview']);(function() { var ga = document.createElement('script'); ga.type = 'text/javascript'; ga.async = true;ga.src = ('https:' == document.location.protocol ? 'https://ssl' : 'http://www') + '.google-analytics.com/ga.js'; var s = document.getElementsByTagName('script')[0]; s.parentNode.insertBefore(ga, s);})();\n*/\n  </script>\n  <script src=\"https://ajax.googleapis.com/ajax/libs/jquery/1.11.1/jquery.min.js\" type=\"text/javascript\">\n  </script>\n  <script src=\"//ajax.googleapis.com/ajax/libs/jqueryui/1.11.4/jquery-ui.min.js\" type=\"text/javascript\">\n  </script>\n  <script src=\"https://astropedia.astrogeology.usgs.gov/downloadWeb/dynamic/glossary.js\" type=\"text/javascript\">\n  </script>\n  <script src=\"/js/astro-tips.js\" type=\"text/javascript\">\n  </script>\n  <script src=\"/js/general.js\" type=\"text/javascript\">\n  </script>\n  <script type=\"text/javascript\">\n   /*<![CDATA[*/\nshowTooltips(\".downloads, .content dl, .listing\", true);\n/*]]>*/\n  </script>\n </body>\n</html>\n\nhttps://astropedia.astrogeology.usgs.gov/download/Mars/Viking/cerberus_enhanced.tif/full.jpg\nCerberus Hemisphere Enhanced\n{'Title': 'Cerberus Hemisphere Enhanced', 'url': 'https://astropedia.astrogeology.usgs.gov/download/Mars/Viking/cerberus_enhanced.tif/full.jpg'}\n"
    }
   ],
   "source": [
    "cerberus_url = ('https://astrogeology.usgs.gov/search/map/Mars/Viking/cerberus_enhanced')\n",
    "\n",
    "response = req.get(cerberus_url)\n",
    "soup = bs(response.text, 'html.parser')\n",
    "print(soup.prettify())\n",
    "\n",
    "cerberus_img = soup.find_all('div', class_=\"wide-image-wrapper\")\n",
    "cerberus_img\n",
    "for img in cerberus_img:\n",
    "    pic = img.find('li')\n",
    "    full_img = pic.find('a')['href']\n",
    "    print(full_img)\n",
    "cerberus_title = soup.find('h2', class_='title').text\n",
    "print(cerberus_title)\n",
    "cerberus_hem = {\"Title\": cerberus_title, \"url\": full_img}\n",
    "print(cerberus_hem)"
   ]
  },
  {
   "cell_type": "code",
   "execution_count": 12,
   "metadata": {},
   "outputs": [
    {
     "output_type": "stream",
     "name": "stdout",
     "text": "[<div class=\"wide-image-wrapper\" id=\"wide-image\">\n<div class=\"downloads\">\n<img class=\"thumb\" src=\"/cache/images/08eac6e22c07fb1fe72223a79252de20_schiaparelli_enhanced.tif_thumb.png\"/>\n<h3>Download</h3>\n<ul>\n<li><a href=\"https://astropedia.astrogeology.usgs.gov/download/Mars/Viking/schiaparelli_enhanced.tif/full.jpg\" target=\"_blank\">Sample</a> (jpg) 1024px wide</li>\n<li><a href=\"https://astropedia.astrogeology.usgs.gov/download/Mars/Viking/schiaparelli_enhanced.tif\" target=\"_blank\">Original</a> (tif) 35 MB</li>\n</ul>\n</div>\n<img class=\"wide-image\" src=\"/cache/images/3778f7b43bbbc89d6e3cfabb3613ba93_schiaparelli_enhanced.tif_full.jpg\"/>\n<a class=\"open-toggle\" href=\"#open\" id=\"wide-image-toggle\">Open</a>\n</div>]\nhttps://astropedia.astrogeology.usgs.gov/download/Mars/Viking/schiaparelli_enhanced.tif/full.jpg\nSchiaparelli Hemisphere Enhanced\n{'Title': 'Schiaparelli Hemisphere Enhanced', 'url': 'https://astropedia.astrogeology.usgs.gov/download/Mars/Viking/schiaparelli_enhanced.tif/full.jpg'}\n"
    }
   ],
   "source": [
    "schiaparelli_url = ('https://astrogeology.usgs.gov/search/map/Mars/Viking/schiaparelli_enhanced')\n",
    "\n",
    "response = req.get(schiaparelli_url)\n",
    "soup = bs(response.text, 'html.parser')\n",
    "# print(soup.prettify())\n",
    "\n",
    "schiaparelli_img = soup.find_all('div', class_=\"wide-image-wrapper\")\n",
    "print(schiaparelli_img)\n",
    "\n",
    "for img in schiaparelli_img:\n",
    "    pic = img.find('li')\n",
    "    full_img = pic.find('a')['href']\n",
    "    print(full_img)\n",
    "schiaparelli_title = soup.find('h2', class_='title').text\n",
    "print(schiaparelli_title)\n",
    "schiaparelli_hem = {\"Title\": schiaparelli_title, \"url\": full_img}\n",
    "print(schiaparelli_hem)"
   ]
  },
  {
   "cell_type": "code",
   "execution_count": 13,
   "metadata": {},
   "outputs": [
    {
     "output_type": "stream",
     "name": "stdout",
     "text": "[<div class=\"wide-image-wrapper\" id=\"wide-image\">\n<div class=\"downloads\">\n<img class=\"thumb\" src=\"/cache/images/55a0a1e2796313fdeafb17c35925e8ac_syrtis_major_enhanced.tif_thumb.png\"/>\n<h3>Download</h3>\n<ul>\n<li><a href=\"https://astropedia.astrogeology.usgs.gov/download/Mars/Viking/syrtis_major_enhanced.tif/full.jpg\" target=\"_blank\">Sample</a> (jpg) 1024px wide</li>\n<li><a href=\"https://astropedia.astrogeology.usgs.gov/download/Mars/Viking/syrtis_major_enhanced.tif\" target=\"_blank\">Original</a> (tif) 25 MB</li>\n</ul>\n</div>\n<img class=\"wide-image\" src=\"/cache/images/555e6403a6ddd7ba16ddb0e471cadcf7_syrtis_major_enhanced.tif_full.jpg\"/>\n<a class=\"open-toggle\" href=\"#open\" id=\"wide-image-toggle\">Open</a>\n</div>]\nhttps://astropedia.astrogeology.usgs.gov/download/Mars/Viking/syrtis_major_enhanced.tif/full.jpg\nSyrtis Major Hemisphere Enhanced\n{'Title': 'Syrtis Major Hemisphere Enhanced', 'url': 'https://astropedia.astrogeology.usgs.gov/download/Mars/Viking/syrtis_major_enhanced.tif/full.jpg'}\n"
    }
   ],
   "source": [
    "syrtis_url = ('https://astrogeology.usgs.gov/search/map/Mars/Viking/syrtis_major_enhanced')\n",
    "\n",
    "response = req.get(syrtis_url)\n",
    "soup = bs(response.text, 'html.parser')\n",
    "# print(soup.prettify())\n",
    "\n",
    "syrtis_img = soup.find_all('div', class_=\"wide-image-wrapper\")\n",
    "print(syrtis_img)\n",
    "\n",
    "for img in syrtis_img:\n",
    "    pic = img.find('li')\n",
    "    full_img = pic.find('a')['href']\n",
    "    print(full_img)\n",
    "syrtis_title = soup.find('h2', class_='title').text\n",
    "print(syrtis_title)\n",
    "syrtis_hem = {\"Title\": syrtis_title, \"url\": full_img}\n",
    "print(syrtis_hem)"
   ]
  },
  {
   "cell_type": "code",
   "execution_count": 14,
   "metadata": {},
   "outputs": [
    {
     "output_type": "stream",
     "name": "stdout",
     "text": "[<div class=\"wide-image-wrapper\" id=\"wide-image\">\n<div class=\"downloads\">\n<img class=\"thumb\" src=\"/cache/images/4e59980c1c57f89c680c0e1ccabbeff1_valles_marineris_enhanced.tif_thumb.png\"/>\n<h3>Download</h3>\n<ul>\n<li><a href=\"https://astropedia.astrogeology.usgs.gov/download/Mars/Viking/valles_marineris_enhanced.tif/full.jpg\" target=\"_blank\">Sample</a> (jpg) 1024px wide</li>\n<li><a href=\"https://astropedia.astrogeology.usgs.gov/download/Mars/Viking/valles_marineris_enhanced.tif\" target=\"_blank\">Original</a> (tif) 27 MB</li>\n</ul>\n</div>\n<img class=\"wide-image\" src=\"/cache/images/b3c7c6c9138f57b4756be9b9c43e3a48_valles_marineris_enhanced.tif_full.jpg\"/>\n<a class=\"open-toggle\" href=\"#open\" id=\"wide-image-toggle\">Open</a>\n</div>]\nhttps://astropedia.astrogeology.usgs.gov/download/Mars/Viking/valles_marineris_enhanced.tif/full.jpg\nValles Marineris Hemisphere Enhanced\n{'Title': 'Valles Marineris Hemisphere Enhanced', 'url': 'https://astropedia.astrogeology.usgs.gov/download/Mars/Viking/valles_marineris_enhanced.tif/full.jpg'}\n"
    }
   ],
   "source": [
    "valles_marineris_url = ('https://astrogeology.usgs.gov/search/map/Mars/Viking/valles_marineris_enhanced')\n",
    "\n",
    "response = req.get(valles_marineris_url)\n",
    "soup = bs(response.text, 'html.parser')\n",
    "# print(soup.prettify())\n",
    "\n",
    "valles_marineris_img = soup.find_all('div', class_=\"wide-image-wrapper\")\n",
    "print(valles_marineris_img)\n",
    "\n",
    "for img in valles_marineris_img:\n",
    "    pic = img.find('li')\n",
    "    full_img = pic.find('a')['href']\n",
    "    print(full_img)\n",
    "valles_marineris_title = soup.find('h2', class_='title').text\n",
    "print(valles_marineris_title)\n",
    "valles_marineris_hem = {\"Title\": valles_marineris_title, \"url\": full_img}\n",
    "print(valles_marineris_hem)"
   ]
  },
  {
   "cell_type": "code",
   "execution_count": null,
   "metadata": {},
   "outputs": [],
   "source": []
  }
 ],
 "metadata": {
  "kernelspec": {
   "display_name": "Python 3",
   "language": "python",
   "name": "python3"
  },
  "language_info": {
   "codemirror_mode": {
    "name": "ipython",
    "version": 3
   },
   "file_extension": ".py",
   "mimetype": "text/x-python",
   "name": "python",
   "nbconvert_exporter": "python",
   "pygments_lexer": "ipython3",
   "version": "3.7.4-final"
  }
 },
 "nbformat": 4,
 "nbformat_minor": 2
}